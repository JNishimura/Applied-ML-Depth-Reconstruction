{
 "cells": [
  {
   "cell_type": "markdown",
   "metadata": {},
   "source": [
    "# Notebook that generates encoded data to use for ML VPD\n"
   ]
  },
  {
   "cell_type": "markdown",
   "metadata": {},
   "source": [
    "## Imports and Configs\n",
    "Make sure to change the datasetDirectory variable to the path of the PreprocessedImages folder"
   ]
  },
  {
   "cell_type": "code",
   "execution_count": 1,
   "metadata": {},
   "outputs": [
    {
     "name": "stdout",
     "output_type": "stream",
     "text": [
      "Defaulting to user installation because normal site-packages is not writeable\n",
      "Requirement already satisfied: pillow in /iahome/b/br/broschwartz/.local/lib/python3.6/site-packages (8.1.2)\n",
      "\u001b[33mWARNING: You are using pip version 20.2.3; however, version 21.1.1 is available.\n",
      "You should consider upgrading via the '/usr/bin/python -m pip install --upgrade pip' command.\u001b[0m\n",
      "Defaulting to user installation because normal site-packages is not writeable\n",
      "Requirement already satisfied: matplotlib in /iahome/b/br/broschwartz/.local/lib/python3.6/site-packages (3.3.4)\n",
      "Requirement already satisfied: numpy>=1.15 in /usr/local/lib/python3.6/dist-packages (from matplotlib) (1.17.3)\n",
      "Requirement already satisfied: pillow>=6.2.0 in /iahome/b/br/broschwartz/.local/lib/python3.6/site-packages (from matplotlib) (8.1.2)\n",
      "Requirement already satisfied: pyparsing!=2.0.4,!=2.1.2,!=2.1.6,>=2.0.3 in /usr/local/lib/python3.6/dist-packages (from matplotlib) (2.4.7)\n",
      "Requirement already satisfied: kiwisolver>=1.0.1 in /iahome/b/br/broschwartz/.local/lib/python3.6/site-packages (from matplotlib) (1.3.1)\n",
      "Requirement already satisfied: python-dateutil>=2.1 in /usr/local/lib/python3.6/dist-packages (from matplotlib) (2.8.1)\n",
      "Requirement already satisfied: cycler>=0.10 in /iahome/b/br/broschwartz/.local/lib/python3.6/site-packages (from matplotlib) (0.10.0)\n",
      "Requirement already satisfied: six>=1.5 in /usr/local/lib/python3.6/dist-packages (from python-dateutil>=2.1->matplotlib) (1.15.0)\n",
      "\u001b[33mWARNING: You are using pip version 20.2.3; however, version 21.1.1 is available.\n",
      "You should consider upgrading via the '/usr/bin/python -m pip install --upgrade pip' command.\u001b[0m\n"
     ]
    }
   ],
   "source": [
    "!pip install pillow\n",
    "!pip install matplotlib"
   ]
  },
  {
   "cell_type": "code",
   "execution_count": 2,
   "metadata": {},
   "outputs": [],
   "source": [
    "from PIL import Image\n",
    "from PIL import ImageFilter\n",
    "from scipy import ndimage\n",
    "import numpy as np\n",
    "import os\n",
    "import sys\n",
    "import math\n",
    "import matplotlib.pyplot as plt\n",
    "\n",
    "datasetDirectory = \"../Data/\"\n",
    "directory = os.fsencode(datasetDirectory)\n",
    "\n",
    "NUM_STAIRS = 2"
   ]
  },
  {
   "cell_type": "markdown",
   "metadata": {},
   "source": [
    "## Setup directories"
   ]
  },
  {
   "cell_type": "code",
   "execution_count": 3,
   "metadata": {},
   "outputs": [
    {
     "name": "stdout",
     "output_type": "stream",
     "text": [
      "2299\n"
     ]
    }
   ],
   "source": [
    "print(len(os.listdir(directory)))"
   ]
  },
  {
   "cell_type": "code",
   "execution_count": 4,
   "metadata": {},
   "outputs": [],
   "source": [
    "depthImagePaths = []\n",
    "\n",
    "for file in os.listdir(directory):\n",
    "    filename = os.fsdecode(file)\n",
    "    if filename.endswith(\"_Range.png\"): \n",
    "        depthImagePaths.append(filename)\n",
    "    else:\n",
    "        continue\n",
    "            \n",
    "if not os.path.isdir(datasetDirectory + '/Dataset/SCDEncoded/Training'):\n",
    "    os.makedirs(datasetDirectory + '/Dataset/SCDEncoded/Training')\n",
    "if not os.path.isdir(datasetDirectory + '/Dataset/BetaMap/Training'):\n",
    "    os.makedirs(datasetDirectory + '/Dataset/BetaMap/Training')\n",
    "\n",
    "if not os.path.isdir(datasetDirectory + '/Dataset/SCDEncoded/Testing'):\n",
    "    os.makedirs(datasetDirectory + '/Dataset/SCDEncoded/Testing')\n",
    "if not os.path.isdir(datasetDirectory + '/Dataset/BetaMap/Testing'):\n",
    "    os.makedirs(datasetDirectory + '/Dataset/BetaMap/Testing')"
   ]
  },
  {
   "cell_type": "markdown",
   "metadata": {},
   "source": [
    "## Define SCD Encode Function"
   ]
  },
  {
   "cell_type": "code",
   "execution_count": 5,
   "metadata": {},
   "outputs": [],
   "source": [
    "def scdEncode(file):\n",
    "    # Get image depth data\n",
    "    gaussian_kernel = [[1 / 16.0, 2 / 16.0, 1 / 16.0],\n",
    "                       [2 / 16.0, 4 / 16.0, 2 / 16.0],\n",
    "                       [1 / 16.0, 2 / 16.0, 1 / 16.0]]\n",
    "    \n",
    "    depthImage = Image.open(datasetDirectory + '/' + depthImagePaths[file])\n",
    "    depthArray = np.asarray(depthImage)\n",
    "    depthArray = depthArray.astype(float)\n",
    "    depthArray = ndimage.convolve(depthArray, gaussian_kernel, mode='constant', cval=0.0)\n",
    "    \n",
    "    # Get information about depth\n",
    "    rows = depthArray.shape[0]\n",
    "    cols = depthArray.shape[1]\n",
    "    zmax = np.max(depthArray)\n",
    "    zmin = np.min(depthArray)\n",
    "    zrng = zmax - zmin\n",
    "    \n",
    "    # Determine encoding parameters\n",
    "    nstr = NUM_STAIRS\n",
    "    P = zrng / nstr\n",
    "    Beta = P / 2\n",
    "    \n",
    "    # SCD encoding\n",
    "    I1 = np.zeros((rows,cols))\n",
    "    I2 = np.zeros((rows,cols))\n",
    "    I3 = np.zeros((rows,cols))\n",
    "    depthMask = np.zeros((rows,cols))\n",
    "    I1temp = np.zeros((rows,cols))\n",
    "    I2temp = np.zeros((rows,cols))\n",
    "    \n",
    "    \n",
    "    I1 = 0.5 + 0.5 * np.cos(2 * np.pi * depthArray / P)\n",
    "    \n",
    "    I1[np.where(depthArray <= 0)] = 0\n",
    "    depthMask[np.where(depthArray > 0)] = 1\n",
    "        \n",
    "    I1Image = Image.fromarray((I1*255).astype(np.uint8))\n",
    "    \n",
    "    return (depthArray, I1, I2, I3, I1Image, zrng, Beta, depthMask, nstr)"
   ]
  },
  {
   "cell_type": "markdown",
   "metadata": {},
   "source": [
    "## Define Image Saving Function"
   ]
  },
  {
   "cell_type": "code",
   "execution_count": 6,
   "metadata": {},
   "outputs": [],
   "source": [
    "def saveImages(file, orgZ, I1, I2, I3, I1Image, zrng, Beta, depthMask, nstr):\n",
    "    # Save out SCD encoded image\n",
    "    SCDArray = np.dstack((I1*255, I2*255, I3*255)) # Combine three channels into one array\n",
    "    SCDImage = Image.fromarray((SCDArray).astype(np.uint8)) # Grayscale\n",
    "    SCDImageFilename = depthImagePaths[file].split('.') # Formatting filename\n",
    "    if file < np.ceil(0.2 * len(depthImagePaths)):\n",
    "        SCDImage.save(datasetDirectory + '/Dataset/SCDEncoded/Testing/' + SCDImageFilename[0] + '_SCD_Encoded.png')\n",
    "    else:\n",
    "        SCDImage.save(datasetDirectory + '/Dataset/SCDEncoded/Training/' + SCDImageFilename[0] + '_SCD_Encoded.png')\n",
    "\n",
    "    # Calculate beta map\n",
    "    CorrectBetaMap = np.floor(orgZ / Beta)\n",
    "    CorrectBetaMap = CorrectBetaMap + depthMask # This should keep the background as zero while making all other values <1, 2, 3...>\n",
    "    threshold_indices = (CorrectBetaMap == (2 * nstr + 1))\n",
    "    CorrectBetaMap[threshold_indices] = 2 * nstr   # This avoids the 'nipple' that occurs at the highest point in the range\n",
    "\n",
    "\n",
    "    # Save out beta map\n",
    "    BetaImage = Image.fromarray(CorrectBetaMap.astype(np.uint8), 'L') # Grayscale\n",
    "    BetaImageFilename = depthImagePaths[file].split('.') # Formatting filename\n",
    "    if file < np.ceil(0.2 * len(depthImagePaths)):\n",
    "        BetaImage.save(datasetDirectory + '/Dataset/BetaMap/Testing/' + BetaImageFilename[0] + '_SCD_Encoded_Beta_Map.png')\n",
    "    else:\n",
    "        BetaImage.save(datasetDirectory + '/Dataset/BetaMap/Training/' + BetaImageFilename[0] + '_SCD_Encoded_Beta_Map.png')\n"
   ]
  },
  {
   "cell_type": "markdown",
   "metadata": {},
   "source": [
    "## Use SCD Encode function on images"
   ]
  },
  {
   "cell_type": "code",
   "execution_count": 7,
   "metadata": {},
   "outputs": [
    {
     "name": "stdout",
     "output_type": "stream",
     "text": [
      "Generating Testing Set: 230 / 230\n",
      "Generating Training Set: 919 / 919\n",
      "Dataset Generated!\n"
     ]
    }
   ],
   "source": [
    "for file in range(len(depthImagePaths)):\n",
    "#for file in range(0, 1):\n",
    "    # Progress indicator\n",
    "    if file < np.ceil(0.2 * len(depthImagePaths)):\n",
    "        sys.stdout.write('\\rGenerating Testing Set: %d / %d' % (file + 1, np.ceil(0.2 * len(depthImagePaths))))\n",
    "        sys.stdout.flush()\n",
    "    else:\n",
    "        if file == np.ceil(0.2 * len(depthImagePaths)):\n",
    "            sys.stdout.write('\\n')\n",
    "            sys.stdout.flush()\n",
    "    \n",
    "        sys.stdout.write('\\rGenerating Training Set: %d / %d' % (file + 1 - np.ceil(0.2 * len(depthImagePaths)), len(depthImagePaths) - np.ceil(0.2 * len(depthImagePaths))))\n",
    "        sys.stdout.flush()\n",
    "        \n",
    "    orgZ, I1, I2, I3, I1Image, zrng, Beta, depthMask, nstr = scdEncode(file)\n",
    "    saveImages(file, orgZ, I1, I2, I3, I1Image, zrng, Beta, depthMask, nstr)\n",
    "    \n",
    "print('\\nDataset Generated!')"
   ]
  },
  {
   "cell_type": "code",
   "execution_count": null,
   "metadata": {},
   "outputs": [],
   "source": []
  }
 ],
 "metadata": {
  "kernelspec": {
   "display_name": "Python 3",
   "language": "python",
   "name": "python3"
  },
  "language_info": {
   "codemirror_mode": {
    "name": "ipython",
    "version": 3
   },
   "file_extension": ".py",
   "mimetype": "text/x-python",
   "name": "python",
   "nbconvert_exporter": "python",
   "pygments_lexer": "ipython3",
   "version": "3.6.9"
  }
 },
 "nbformat": 4,
 "nbformat_minor": 4
}
